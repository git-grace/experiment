{
  "nbformat": 4,
  "nbformat_minor": 0,
  "metadata": {
    "colab": {
      "provenance": [],
      "authorship_tag": "ABX9TyPR1ZSV1w5yBItJj2SQMAC0",
      "include_colab_link": true
    },
    "kernelspec": {
      "name": "python3",
      "display_name": "Python 3"
    },
    "language_info": {
      "name": "python"
    }
  },
  "cells": [
    {
      "cell_type": "markdown",
      "metadata": {
        "id": "view-in-github",
        "colab_type": "text"
      },
      "source": [
        "<a href=\"https://colab.research.google.com/github/github-chx/experiment/blob/main/base%20/preprocess_ner.ipynb\" target=\"_parent\"><img src=\"https://colab.research.google.com/assets/colab-badge.svg\" alt=\"Open In Colab\"/></a>"
      ]
    },
    {
      "cell_type": "code",
      "execution_count": 2,
      "metadata": {
        "id": "Imlgzey3ZHEK"
      },
      "outputs": [],
      "source": [
        "from transformers import AutoTokenizer"
      ]
    },
    {
      "cell_type": "code",
      "source": [
        "sentence = \"i want watch movies on visha\"\n",
        "# word-type-start-end\n",
        "entities = [(\"visha\", \"App\", 23, 28)]"
      ],
      "metadata": {
        "id": "8HEC3WMrZSpW"
      },
      "execution_count": 31,
      "outputs": []
    },
    {
      "cell_type": "code",
      "source": [
        "sentence[23:28]"
      ],
      "metadata": {
        "colab": {
          "base_uri": "https://localhost:8080/",
          "height": 35
        },
        "id": "uQHy1UG_Nt4e",
        "outputId": "1e76cf67-9cb0-4371-c7a4-c6812a62a6e7"
      },
      "execution_count": 32,
      "outputs": [
        {
          "output_type": "execute_result",
          "data": {
            "text/plain": [
              "'visha'"
            ],
            "application/vnd.google.colaboratory.intrinsic+json": {
              "type": "string"
            }
          },
          "metadata": {},
          "execution_count": 32
        }
      ]
    },
    {
      "cell_type": "code",
      "source": [
        "tokenizer = AutoTokenizer.from_pretrained(\"bert-base-uncased\")\n"
      ],
      "metadata": {
        "id": "2bhP-6A3ZkA-"
      },
      "execution_count": 21,
      "outputs": []
    },
    {
      "cell_type": "code",
      "source": [
        "tokens = tokenizer(sentence, return_offsets_mapping=True)\n",
        "tokens"
      ],
      "metadata": {
        "colab": {
          "base_uri": "https://localhost:8080/"
        },
        "id": "T8DgnxrsaTuo",
        "outputId": "451d1282-c06f-4a86-dc7a-5d7c153e09ff"
      },
      "execution_count": 29,
      "outputs": [
        {
          "output_type": "execute_result",
          "data": {
            "text/plain": [
              "{'input_ids': [101, 1045, 2215, 3422, 5691, 2006, 25292, 3270, 102], 'token_type_ids': [0, 0, 0, 0, 0, 0, 0, 0, 0], 'attention_mask': [1, 1, 1, 1, 1, 1, 1, 1, 1], 'offset_mapping': [(0, 0), (0, 1), (2, 6), (7, 12), (13, 19), (20, 22), (23, 26), (26, 28), (0, 0)]}"
            ]
          },
          "metadata": {},
          "execution_count": 29
        }
      ]
    },
    {
      "cell_type": "code",
      "source": [
        "words = tokenizer.convert_ids_to_tokens(tokens[\"input_ids\"])\n",
        "words"
      ],
      "metadata": {
        "colab": {
          "base_uri": "https://localhost:8080/"
        },
        "id": "UwNEUS5tas4a",
        "outputId": "08f1c2d4-8585-4f0d-ce36-ffe5697b3148"
      },
      "execution_count": 25,
      "outputs": [
        {
          "output_type": "execute_result",
          "data": {
            "text/plain": [
              "['[CLS]', 'i', 'want', 'watch', 'movies', 'on', 'vis', '##ha', '[SEP]']"
            ]
          },
          "metadata": {},
          "execution_count": 25
        }
      ]
    },
    {
      "cell_type": "code",
      "source": [
        "def build_entities_by_token(entity_list, token_offsets):\n",
        "  entities_by_token = []\n",
        "  edge_mismatch = False\n",
        "  start2id = {}\n",
        "  end2id = {}\n",
        "  for i, (s, e) in enumerate(token_offsets):\n",
        "    if e == 0:\n",
        "      continue\n",
        "    start2id[s] = i\n",
        "    end2id[e] = i+1\n",
        "\n",
        "  print(\"start2id: \", start2id, \"end2id: \", end2id)\n",
        "  for w, t, s, e in entity_list:\n",
        "    sid = start2id.get(s, 0)\n",
        "    eid = end2id.get(e, 0)\n",
        "    if sid and eid and (eid > sid):\n",
        "      entities_by_token.append((w, t, sid, eid))\n",
        "    else:\n",
        "      edge_mismatch = True\n",
        "    print(w, t, sid, eid)\n",
        "  return entities_by_token, edge_mismatch\n",
        "\n",
        "\n",
        "class TrainingData:\n",
        "  def __init__(self, sub_words, tokens, entities):\n",
        "    self.sub_words = sub_words\n",
        "    self.input_ids = tokens[\"input_ids\"]\n",
        "    self.length = len(tokens[\"input_ids\"])\n",
        "    self.token_type_ids = tokens[\"token_type_ids\"]\n",
        "    self.attention_mask = tokens[\"attention_mask\"]\n",
        "    self.offset_mapping = tokens[\"offset_mapping\"]\n",
        "    self.entities_tokens, self.edge_match = build_entities_by_token(entities, tokens[\"offset_mapping\"])\n",
        "\n",
        "  def get_tags(self, max_len):\n",
        "    tags = [\"O\" for _ in range(max_len)]\n",
        "    tags[0] = \"START_TAG\"\n",
        "    tags[self.length-1] = \"END_TAG\"\n",
        "    for w, t, s, e in self.entities_tokens:\n",
        "      tags[s] = f'B-{t}'\n",
        "      for j in range(s+1, e):\n",
        "        tags[j] = f\"I-{t}\"\n",
        "    return tags\n",
        "\n",
        "\n",
        "train_data = TrainingData(\n",
        "  sub_words=words,\n",
        "  tokens=tokens,\n",
        "  entities=entities,\n",
        ")\n",
        "\n",
        "tags = train_data.get_tags(max_len=10)\n",
        "for w, t in zip(words, tags):\n",
        "  print(w, t)"
      ],
      "metadata": {
        "colab": {
          "base_uri": "https://localhost:8080/"
        },
        "id": "F-YP09OIauLz",
        "outputId": "78ff5355-c3a4-4f29-bb95-5e2419a572a6"
      },
      "execution_count": 34,
      "outputs": [
        {
          "output_type": "stream",
          "name": "stdout",
          "text": [
            "start2id:  {0: 1, 2: 2, 7: 3, 13: 4, 20: 5, 23: 6, 26: 7} end2id:  {1: 2, 6: 3, 12: 4, 19: 5, 22: 6, 26: 7, 28: 8}\n",
            "visha App 6 8\n",
            "[CLS] START_TAG\n",
            "i O\n",
            "want O\n",
            "watch O\n",
            "movies O\n",
            "on O\n",
            "vis B-App\n",
            "##ha I-App\n",
            "[SEP] END_TAG\n"
          ]
        }
      ]
    },
    {
      "cell_type": "code",
      "source": [],
      "metadata": {
        "id": "EqYN1TgaeGD7"
      },
      "execution_count": null,
      "outputs": []
    }
  ]
}