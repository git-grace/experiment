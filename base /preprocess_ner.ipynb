{
  "nbformat": 4,
  "nbformat_minor": 0,
  "metadata": {
    "colab": {
      "provenance": [],
      "authorship_tag": "ABX9TyOa+4VczorvByDBtNrp7Rk5",
      "include_colab_link": true
    },
    "kernelspec": {
      "name": "python3",
      "display_name": "Python 3"
    },
    "language_info": {
      "name": "python"
    }
  },
  "cells": [
    {
      "cell_type": "markdown",
      "metadata": {
        "id": "view-in-github",
        "colab_type": "text"
      },
      "source": [
        "<a href=\"https://colab.research.google.com/github/github-chx/experiment/blob/main/base%20/preprocess_ner.ipynb\" target=\"_parent\"><img src=\"https://colab.research.google.com/assets/colab-badge.svg\" alt=\"Open In Colab\"/></a>"
      ]
    },
    {
      "cell_type": "code",
      "execution_count": null,
      "metadata": {
        "id": "Imlgzey3ZHEK"
      },
      "outputs": [],
      "source": [
        "from transformers import AutoTokenizer"
      ]
    },
    {
      "cell_type": "code",
      "source": [
        "sentence = \"play music on visha\"\n",
        "# word-type-start-end\n",
        "entities = [(\"visha\", \"AppName\", 14, 19)]"
      ],
      "metadata": {
        "id": "8HEC3WMrZSpW"
      },
      "execution_count": null,
      "outputs": []
    },
    {
      "cell_type": "code",
      "source": [
        "tokenizer = AutoTokenizer.from_pretrained(\"bert-base-uncased\")\n"
      ],
      "metadata": {
        "id": "2bhP-6A3ZkA-"
      },
      "execution_count": null,
      "outputs": []
    },
    {
      "cell_type": "code",
      "source": [
        "tokens = tokenizer(sentence, return_offsets_mapping=True)\n",
        "tokens"
      ],
      "metadata": {
        "colab": {
          "base_uri": "https://localhost:8080/"
        },
        "id": "T8DgnxrsaTuo",
        "outputId": "b35490bb-54c4-4f52-f254-2c0b9bf740e7"
      },
      "execution_count": null,
      "outputs": [
        {
          "output_type": "execute_result",
          "data": {
            "text/plain": [
              "{'input_ids': [101, 2377, 2189, 2006, 25292, 3270, 102], 'token_type_ids': [0, 0, 0, 0, 0, 0, 0], 'attention_mask': [1, 1, 1, 1, 1, 1, 1], 'offset_mapping': [(0, 0), (0, 4), (5, 10), (11, 13), (14, 17), (17, 19), (0, 0)]}"
            ]
          },
          "metadata": {},
          "execution_count": 31
        }
      ]
    },
    {
      "cell_type": "code",
      "source": [
        "words = tokenizer.convert_ids_to_tokens(tokens[\"input_ids\"])\n",
        "words"
      ],
      "metadata": {
        "colab": {
          "base_uri": "https://localhost:8080/"
        },
        "id": "UwNEUS5tas4a",
        "outputId": "8462d801-9d7e-4a18-f8c5-aaf5dad07d69"
      },
      "execution_count": null,
      "outputs": [
        {
          "output_type": "execute_result",
          "data": {
            "text/plain": [
              "['[CLS]', 'play', 'music', 'on', 'vis', '##ha', '[SEP]']"
            ]
          },
          "metadata": {},
          "execution_count": 32
        }
      ]
    },
    {
      "cell_type": "code",
      "source": [
        "def get_entities_by_token(entity_list, token_offsets):\n",
        "  entities_by_token = []\n",
        "  edge_mismatch = False\n",
        "  start2id = {}\n",
        "  end2id = {}\n",
        "  for i, (s, e) in enumerate(token_offsets):\n",
        "    if e == 0:\n",
        "      continue\n",
        "    start2id[s] = i\n",
        "    end2id[e] = i+1\n",
        "\n",
        "  for w, t, s, e in entity_list:\n",
        "    sid = start2id.get(s, 0)\n",
        "    eid = end2id.get(e, 0)\n",
        "    if sid and eid and (eid > sid):\n",
        "      entities_by_token.append((w, t, sid, eid))\n",
        "    else:\n",
        "      edge_mismatch = True\n",
        "    print(w, t, sid, eid)\n",
        "  return entities_by_token, edge_mismatch\n",
        "\n",
        "\n",
        "class TrainingData:\n",
        "  def __init__(self, sub_words, tokens, entities):\n",
        "    self.sub_words = sub_words\n",
        "    self.input_ids = tokens[\"input_ids\"]\n",
        "    self.length = len(tokens[\"input_ids\"])\n",
        "    self.token_type_ids = tokens[\"token_type_ids\"]\n",
        "    self.attention_mask = tokens[\"attention_mask\"]\n",
        "    self.offset_mapping = tokens[\"offset_mapping\"]\n",
        "    self.entities_tokens, self.edge_match = get_entities_by_token(entities, tokens[\"offset_mapping\"])\n",
        "\n",
        "  def get_tags(self, max_len):\n",
        "    tags = [\"O\" for _ in range(max_len)]\n",
        "    tags[0] = \"START_TAG\"\n",
        "    tags[self.length-1] = \"END_TAG\"\n",
        "    for w, t, s, e in self.entities_tokens:\n",
        "      tags[s] = f'B-{t}'\n",
        "      for j in range(s+1, e):\n",
        "        tags[j] = f\"I-{t}\"\n",
        "    return tags\n",
        "\n",
        "\n",
        "train_data = TrainingData(\n",
        "  sub_words=words,\n",
        "  tokens=tokens,\n",
        "  entities=entities,\n",
        ")\n",
        "\n",
        "tags = train_data.get_tags(max_len=10)\n",
        "for w, t in zip(words, tags):\n",
        "  print(w, t)"
      ],
      "metadata": {
        "colab": {
          "base_uri": "https://localhost:8080/"
        },
        "id": "F-YP09OIauLz",
        "outputId": "297b909f-7455-4d74-a9a8-5e8f8a768087"
      },
      "execution_count": 45,
      "outputs": [
        {
          "output_type": "stream",
          "name": "stdout",
          "text": [
            "visha AppName 4 6\n",
            "[CLS] START_TAG\n",
            "play O\n",
            "music O\n",
            "on O\n",
            "vis B-AppName\n",
            "##ha I-AppName\n",
            "[SEP] END_TAG\n"
          ]
        }
      ]
    },
    {
      "cell_type": "code",
      "source": [],
      "metadata": {
        "id": "EqYN1TgaeGD7"
      },
      "execution_count": null,
      "outputs": []
    }
  ]
}