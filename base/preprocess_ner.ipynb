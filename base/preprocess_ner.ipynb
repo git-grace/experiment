{
  "nbformat": 4,
  "nbformat_minor": 0,
  "metadata": {
    "colab": {
      "provenance": [],
      "authorship_tag": "ABX9TyNV0iTAkIzgpmUikxaZSSLU",
      "include_colab_link": true
    },
    "kernelspec": {
      "name": "python3",
      "display_name": "Python 3"
    },
    "language_info": {
      "name": "python"
    }
  },
  "cells": [
    {
      "cell_type": "markdown",
      "metadata": {
        "id": "view-in-github",
        "colab_type": "text"
      },
      "source": [
        "<a href=\"https://colab.research.google.com/github/github-chx/experiment/blob/main/base/preprocess_ner.ipynb\" target=\"_parent\"><img src=\"https://colab.research.google.com/assets/colab-badge.svg\" alt=\"Open In Colab\"/></a>"
      ]
    },
    {
      "cell_type": "code",
      "execution_count": null,
      "metadata": {
        "id": "Imlgzey3ZHEK"
      },
      "outputs": [],
      "source": [
        "from transformers import AutoTokenizer"
      ]
    },
    {
      "cell_type": "code",
      "source": [
        "sentence = \"play music on visha\"\n",
        "# word-type-start-end\n",
        "entities = [(\"visha\", \"AppName\", 14, 19)]"
      ],
      "metadata": {
        "id": "8HEC3WMrZSpW"
      },
      "execution_count": null,
      "outputs": []
    },
    {
      "cell_type": "code",
      "source": [
        "tokenizer = AutoTokenizer.from_pretrained(\"bert-base-uncased\")\n"
      ],
      "metadata": {
        "id": "2bhP-6A3ZkA-"
      },
      "execution_count": null,
      "outputs": []
    },
    {
      "cell_type": "code",
      "source": [
        "tokens = tokenizer(sentence, return_offsets_mapping=True)\n",
        "tokens"
      ],
      "metadata": {
        "colab": {
          "base_uri": "https://localhost:8080/"
        },
        "id": "T8DgnxrsaTuo",
        "outputId": "b35490bb-54c4-4f52-f254-2c0b9bf740e7"
      },
      "execution_count": null,
      "outputs": [
        {
          "output_type": "execute_result",
          "data": {
            "text/plain": [
              "{'input_ids': [101, 2377, 2189, 2006, 25292, 3270, 102], 'token_type_ids': [0, 0, 0, 0, 0, 0, 0], 'attention_mask': [1, 1, 1, 1, 1, 1, 1], 'offset_mapping': [(0, 0), (0, 4), (5, 10), (11, 13), (14, 17), (17, 19), (0, 0)]}"
            ]
          },
          "metadata": {},
          "execution_count": 31
        }
      ]
    },
    {
      "cell_type": "code",
      "source": [
        "words = tokenizer.convert_ids_to_tokens(tokens[\"input_ids\"])\n",
        "words"
      ],
      "metadata": {
        "colab": {
          "base_uri": "https://localhost:8080/"
        },
        "id": "UwNEUS5tas4a",
        "outputId": "8462d801-9d7e-4a18-f8c5-aaf5dad07d69"
      },
      "execution_count": null,
      "outputs": [
        {
          "output_type": "execute_result",
          "data": {
            "text/plain": [
              "['[CLS]', 'play', 'music', 'on', 'vis', '##ha', '[SEP]']"
            ]
          },
          "metadata": {},
          "execution_count": 32
        }
      ]
    },
    {
      "cell_type": "code",
      "source": [
        "def get_entities_by_token(entity_list, token_offsets):\n",
        "  entities_by_token = []\n",
        "  edge_mismatch = False\n",
        "  start2id = {}\n",
        "  end2id = {}\n",
        "  for i, (s, e) in enumerate(token_offsets):\n",
        "    if e == 0:\n",
        "      continue\n",
        "    start2id[s] = i\n",
        "    end2id[e] = i+1\n",
        "\n",
        "  for w, t, s, e in entity_list:\n",
        "    sid = start2id.get(s, 0)\n",
        "    eid = end2id.get(e, 0)\n",
        "    if sid and eid and (eid > sid):\n",
        "      entities_by_token.append((w, t, sid, eid))\n",
        "    else:\n",
        "      edge_mismatch = True\n",
        "\n",
        "    print(w, t, sid, eid)\n",
        "\n",
        "\n",
        "class TrainingData:\n",
        "  def __init__(self, sub_words, tokens, entities):\n",
        "    self.sub_words = sub_words\n",
        "\n",
        "\n",
        "\n",
        "def get_tags(self, max_len):\n",
        "  tags = [\"O\" for _ in range(max_len)]\n",
        "  tags[0] = \"START_TAG\"\n",
        "  tags[]\n",
        "get_entities_by_token(entities, tokens[\"offset_mapping\"])"
      ],
      "metadata": {
        "colab": {
          "base_uri": "https://localhost:8080/"
        },
        "id": "F-YP09OIauLz",
        "outputId": "c9b96397-6a1f-4c51-a0b3-d0aa5aad00ad"
      },
      "execution_count": null,
      "outputs": [
        {
          "output_type": "stream",
          "name": "stdout",
          "text": [
            "visha AppName 4 6\n"
          ]
        }
      ]
    },
    {
      "cell_type": "code",
      "source": [],
      "metadata": {
        "id": "EqYN1TgaeGD7"
      },
      "execution_count": null,
      "outputs": []
    }
  ]
}